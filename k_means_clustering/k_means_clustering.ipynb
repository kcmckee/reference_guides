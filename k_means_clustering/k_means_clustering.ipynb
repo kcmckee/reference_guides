{
 "cells": [
  {
   "cell_type": "markdown",
   "metadata": {},
   "source": [
    "# K-Means Clustering in Python # "
   ]
  },
  {
   "cell_type": "markdown",
   "metadata": {},
   "source": [
    "Killian McKee"
   ]
  },
  {
   "cell_type": "markdown",
   "metadata": {},
   "source": [
    "## Overview ## \n",
    "\n",
    "1. [What is K-Means Clustering?](#section1)\n",
    "2. [Key Terms](#section2) \n",
    "3. [Pros and Cons of K-Means Clustering](#section3)\n",
    "4. [When to use K-Means Clustering](#section4)\n",
    "5. [Key Parameters](#section5) \n",
    "6. [Walkthrough: Building a k means clustering model](#section6)\n",
    "7. [Additional Reading](#section7) \n",
    "8. [Conclusion](#section8)\n",
    "9. [Sources](#section9)"
   ]
  },
  {
   "cell_type": "markdown",
   "metadata": {},
   "source": [
    "<a id='section1'></a>"
   ]
  },
  {
   "cell_type": "markdown",
   "metadata": {},
   "source": [
    "## What is K Means Clustering? ##"
   ]
  },
  {
   "cell_type": "markdown",
   "metadata": {},
   "source": [
    "K means clustering is a clustering algorithm. Clustering algorithms are unsupervised learning methods used to find non overlapping groups within a set of data. Typically, clustering (and unsupervised methods in general) are used in the exploratory data analysis phase of a machine learning project to better understand the underlying structure of our data. Clustering is especially common in medical and marketing settings where it can be used to more clearly understand patient groups and customer subgroups, respectively. K means clustering is a straightforward and effective method of splitting data into k non overlapping groups. To perform k means clustering we first specify the number of clusters we want in our data, then the clustering algorithm assigns every observation to the group to which it most closely belongs. More specifically, a number (1 through k) is randomly assigned to each observation in the data. Next, a centroid is computed for each for each of the k clusters, where the kth cluster centroid is a point obtained by taking the means of all the features within the cluster. Lastly, the algorithm reassigns all the points to the cluster based on the centroid to which they are the closest. K means clustering gives the local optimum, so it is important to run the algorithm multiple times to ensure the best solution arises. "
   ]
  },
  {
   "cell_type": "markdown",
   "metadata": {},
   "source": [
    "### Visualizations of K Means Clustering ### "
   ]
  },
  {
   "cell_type": "markdown",
   "metadata": {},
   "source": [
    "<img src='kmeans_explanation.jpg'>"
   ]
  },
  {
   "cell_type": "markdown",
   "metadata": {},
   "source": [
    "<img src='k_clustering.gif'>"
   ]
  },
  {
   "cell_type": "markdown",
   "metadata": {},
   "source": [
    "<img src='cluster_example.png'>"
   ]
  },
  {
   "cell_type": "markdown",
   "metadata": {},
   "source": [
    "<a id='section2'></a>"
   ]
  },
  {
   "cell_type": "markdown",
   "metadata": {},
   "source": [
    "## Key Terms ##"
   ]
  },
  {
   "cell_type": "markdown",
   "metadata": {},
   "source": [
    "1. **Clustering**: Unsupervised learning technique to find non-overlapping subgroups within a dataset. Commonly used to find customer or patient groups, analomies, or to get a general data visualization.\n",
    "2. **K**: The number of clusters, selected by the user. \n",
    "3. **Centroid**: The average center of mass within a cluster. Used to help determine what observation in a dataset belongs in which cluster. "
   ]
  },
  {
   "cell_type": "markdown",
   "metadata": {},
   "source": [
    "<a id='section3'></a>"
   ]
  },
  {
   "cell_type": "markdown",
   "metadata": {},
   "source": [
    "## Pros and Cons of K Means Clustering ##"
   ]
  },
  {
   "cell_type": "markdown",
   "metadata": {},
   "source": [
    "### Pros ### \n",
    "\n",
    "1. **Simple**: The math behind k means clustering is not overly complex and the results are easy to interpret, visualize, and explain. \n",
    "2. **Efficient**: K means clustering runs effectively on large or datasets. \n",
    "3. **Flexible**: K means clustering can be applied to a variety of problems and has adjustable parameters. \n",
    "4. **Fast**: One of the fastest clustering algorithms since its complexity is only O(knT), where k,n and T are the number of clusters, samples and iterations, respectively.\n",
    "\n",
    "### Cons ### \n",
    "\n",
    "1. **Non Optimal Cluster Numbers**: Since the user has to specify k, the clustering algorithm cannot find and create the optimal number of clusters. \n",
    "2. **Finds Local Minima**: K means clustering finds the local optimum, not the globally best solution. To combat this, users need to run the algorithm multiple times to ensure they are getting good results. \n",
    "3. **Lack of Validation**: this is a problem of unsupervised learning generally, but there is no agreed upon way in which to verify the accuracy of unsupervised learning models because they lack a target variable to use as an accuracy measure. \n",
    "4. **Does Poorly on Non-Globular Data**: K means tends to make circular/globular clusters. If one's data is a strange shape, like a swirl, k means fail miserably. "
   ]
  },
  {
   "cell_type": "markdown",
   "metadata": {},
   "source": [
    "<a id='section4'></a>"
   ]
  },
  {
   "cell_type": "markdown",
   "metadata": {},
   "source": [
    "## When to use K Means Clustering ##"
   ]
  },
  {
   "cell_type": "markdown",
   "metadata": {},
   "source": [
    "K means clustering works well when one is interested in understanding the shape of their data, the subgroups within their data, or if there is interest in identifying outlying data points. k-means clustering is commonly used in marketing, research studies, realty (predicting house prices), fraud detection, document classification, medicine, and imagery processing.  "
   ]
  },
  {
   "cell_type": "markdown",
   "metadata": {},
   "source": [
    "<a id='section5'></a>"
   ]
  },
  {
   "cell_type": "markdown",
   "metadata": {},
   "source": [
    "## Key Parameters ## "
   ]
  },
  {
   "cell_type": "markdown",
   "metadata": {},
   "source": [
    "**n_clusters**: i.e. K, the number of clusters\n",
    "**init**: This is how the clusters are initially created. One can specify the initial centroid points with an array, random starting points, or accept the defaults of a package like scikit learn. \n",
    "**n_init**: The number of times to run the the k means model. Since k means clustering can get stuck giving a local optimum instead of a global, it is important to run the model multiple times "
   ]
  },
  {
   "cell_type": "markdown",
   "metadata": {},
   "source": [
    "<a id='section6'></a>"
   ]
  },
  {
   "cell_type": "markdown",
   "metadata": {},
   "source": [
    "## Walkthrough: Building a K Means Clustering Model ##"
   ]
  },
  {
   "cell_type": "markdown",
   "metadata": {},
   "source": [
    "In this walkthroug we will stepping throug a k means clustering model to visualize the [digits dataset](https://scikit-learn.org/stable/auto_examples/datasets/plot_digits_last_image.html). The digits dataset contains handwritten numbers (0-9). Ultimately, we would expect to see 9 different groups form given the differences in each number. We will perform the following steps: \n",
    "\n",
    "1. import the necessary packages \n",
    "2. load the dataset \n",
    "3. scale the data (this is done because k means uses euclidean distance, so everything needs to be scaled relative to each other)\n",
    "4. examine and visualize our data \n",
    "5. create 3 clustering models with different initializations\n",
    "6. compare the accuracy of the 3 models \n",
    "7. create a visualization for the most accurate model"
   ]
  },
  {
   "cell_type": "code",
   "execution_count": 96,
   "metadata": {},
   "outputs": [],
   "source": [
    "# import necessary packages \n",
    "\n",
    "from time import time \n",
    "import matplotlib.pyplot as plt\n",
    "import numpy as np \n",
    "from sklearn import metrics \n",
    "from sklearn.cluster import KMeans\n",
    "from sklearn.datasets import load_digits\n",
    "from sklearn.decomposition import PCA\n",
    "from sklearn.preprocessing import scale "
   ]
  },
  {
   "cell_type": "code",
   "execution_count": 97,
   "metadata": {},
   "outputs": [],
   "source": [
    "# load our dataset \n",
    "\n",
    "digits_dataset=load_digits()"
   ]
  },
  {
   "cell_type": "code",
   "execution_count": 98,
   "metadata": {},
   "outputs": [],
   "source": [
    "# scale the data \n",
    "\n",
    "data=scale(digits_data.data)"
   ]
  },
  {
   "cell_type": "code",
   "execution_count": 99,
   "metadata": {},
   "outputs": [
    {
     "name": "stdout",
     "output_type": "stream",
     "text": [
      "dataset shape: (1797, 64)\n",
      "dataset type: float64\n",
      "dataset head: [[ 0.         -0.33501649 -0.04308102  0.27407152 -0.66447751 -0.84412939\n",
      "  -0.40972392 -0.12502292 -0.05907756 -0.62400926  0.4829745   0.75962245\n",
      "  -0.05842586  1.12772113  0.87958306 -0.13043338 -0.04462507  0.11144272\n",
      "   0.89588044 -0.86066632 -1.14964846  0.51547187  1.90596347 -0.11422184\n",
      "  -0.03337973  0.48648928  0.46988512 -1.49990136 -1.61406277  0.07639777\n",
      "   1.54181413 -0.04723238  0.          0.76465553  0.05263019 -1.44763006\n",
      "  -1.73666443  0.04361588  1.43955804  0.         -0.06134367  0.8105536\n",
      "   0.63011714 -1.12245711 -1.06623158  0.66096475  0.81845076 -0.08874162\n",
      "  -0.03543326  0.74211893  1.15065212 -0.86867056  0.11012973  0.53761116\n",
      "  -0.75743581 -0.20978513 -0.02359646 -0.29908135  0.08671869  0.20829258\n",
      "  -0.36677122 -1.14664746 -0.5056698  -0.19600752]\n",
      " [ 0.         -0.33501649 -1.09493684  0.03864775  0.26875116 -0.13801953\n",
      "  -0.40972392 -0.12502292 -0.05907756 -0.62400926 -1.91557297 -0.24630352\n",
      "   1.19644995  0.13619465 -0.51499146 -0.13043338 -0.04462507 -0.72764628\n",
      "  -1.2133854   1.38030848  1.44186017 -0.29155283 -0.54880546 -0.11422184\n",
      "  -0.03337973  1.44018517  0.95451315  1.22058589  0.98740215 -0.94558832\n",
      "  -0.62889588 -0.04723238  0.         -0.67237227 -1.05445197  1.10556952\n",
      "   0.96064411 -0.97870236 -0.82269451  0.         -0.06134367 -0.5312841\n",
      "  -0.89983895  1.36217503  1.33078862 -0.39278683 -0.79827225 -0.08874162\n",
      "  -0.03543326 -0.40357499 -1.15311752  1.23639392  1.24208282 -0.45750018\n",
      "  -0.75743581 -0.20978513 -0.02359646 -0.29908135 -1.08938309 -0.24900951\n",
      "   0.84963214  0.54856067 -0.5056698  -0.19600752]\n",
      " [ 0.         -0.33501649 -1.09493684 -1.84474239  0.7353655   1.09767273\n",
      "  -0.40972392 -0.12502292 -0.05907756 -0.62400926 -1.36206201  1.01110394\n",
      "   0.98730398  0.96246672 -0.51499146 -0.13043338 -0.04462507 -0.72764628\n",
      "  -0.33452463  1.03554312  0.14610585  1.32249658 -0.54880546 -0.11422184\n",
      "  -0.03337973 -0.78510524 -1.30708431 -0.47971864  0.8248106   0.58739082\n",
      "  -0.62889588 -0.04723238  0.         -0.38496671  0.05263019  0.6268446\n",
      "   0.79206232 -1.31947511 -0.82269451  0.         -0.06134367  2.48785073\n",
      "   1.39509519  1.36217503 -0.42702619 -1.44653841 -0.79827225 -0.08874162\n",
      "  -0.03543326  1.31496589  0.97343907  1.23639392  1.24208282  0.37175927\n",
      "   0.25922997 -0.20978513 -0.02359646 -0.29908135 -1.08938309 -2.07821787\n",
      "  -0.16403733  1.56568555  1.6951369  -0.19600752]]\n"
     ]
    }
   ],
   "source": [
    "# examine the data \n",
    "\n",
    "print('dataset shape:',data.shape)\n",
    "print('dataset type:',data.dtype)\n",
    "print('dataset head:',data[0:3]) #these are arrays of pixel coordinates used to print the digits dataset (these ones are scaled)"
   ]
  },
  {
   "cell_type": "code",
   "execution_count": 100,
   "metadata": {},
   "outputs": [
    {
     "data": {
      "image/png": "[encoded data removed]",
      "text/plain": [
       "<Figure size 216x216 with 1 Axes>"
      ]
     },
     "metadata": {},
     "output_type": "display_data"
    },
    {
     "data": {
      "image/png": "[encoded data removed]",
      "text/plain": [
       "<Figure size 216x216 with 1 Axes>"
      ]
     },
     "metadata": {},
     "output_type": "display_data"
    },
    {
     "data": {
      "image/png": "[encoded data removed]",
      "text/plain": [
       "<Figure size 216x216 with 1 Axes>"
      ]
     },
     "metadata": {},
     "output_type": "display_data"
    },
    {
     "data": {
      "image/png": "[encoded data removed]",
      "text/plain": [
       "<Figure size 216x216 with 1 Axes>"
      ]
     },
     "metadata": {},
     "output_type": "display_data"
    },
    {
     "data": {
      "image/png": "[encoded data removed]",
      "text/plain": [
       "<Figure size 216x216 with 1 Axes>"
      ]
     },
     "metadata": {},
     "output_type": "display_data"
    },
    {
     "data": {
      "image/png": "[encoded data removed]",
      "text/plain": [
       "<Figure size 216x216 with 1 Axes>"
      ]
     },
     "metadata": {},
     "output_type": "display_data"
    },
    {
     "data": {
      "image/png": "[encoded data removed]",
      "text/plain": [
       "<Figure size 216x216 with 1 Axes>"
      ]
     },
     "metadata": {},
     "output_type": "display_data"
    },
    {
     "data": {
      "image/png": "[encoded data removed]",
      "text/plain": [
       "<Figure size 216x216 with 1 Axes>"
      ]
     },
     "metadata": {},
     "output_type": "display_data"
    },
    {
     "data": {
      "image/png": "[encoded data removed]",
      "text/plain": [
       "<Figure size 216x216 with 1 Axes>"
      ]
     },
     "metadata": {},
     "output_type": "display_data"
    }
   ],
   "source": [
    "# lets check out some examples of the digits we might encounter\n",
    "\n",
    "for i in range(1,10):\n",
    "    plt.figure(1, figsize=(3, 3))\n",
    "    plt.imshow(digits_dataset.images[i], cmap=plt.cm.gray_r, interpolation='nearest') #change the '0' in this line to see different numbers\n",
    "    plt.show()"
   ]
  },
  {
   "cell_type": "code",
   "execution_count": 101,
   "metadata": {},
   "outputs": [
    {
     "name": "stdout",
     "output_type": "stream",
     "text": [
      "n_digits: 10, \t n_samples: 1797, \t n_features: 64\n"
     ]
    }
   ],
   "source": [
    "#specify our parameters for the clustering model \n",
    "\n",
    "n_samples, n_features = data.shape\n",
    "n_digits = len(np.unique(digits_dataset.target))\n",
    "labels = digits_dataset.target\n",
    "sample_size = 300\n",
    "\n",
    "print(\"n_digits: %d, \\t n_samples: %d, \\t n_features: %d\"\n",
    "      % (n_digits, n_samples, n_features))\n"
   ]
  },
  {
   "cell_type": "code",
   "execution_count": 102,
   "metadata": {},
   "outputs": [],
   "source": [
    "# create a function to run our k means classifier and record its metadata\n",
    "\n",
    "def bench_k_means(estimator, name, data):\n",
    "    t0 = time()\n",
    "    estimator.fit(data)\n",
    "    print('%-9s\\t%.2fs\\t%i\\t%.3f\\t%.3f\\t%.3f\\t%.3f\\t%.3f\\t%.3f'\n",
    "          % (name, (time() - t0), estimator.inertia_,\n",
    "             metrics.homogeneity_score(labels, estimator.labels_),\n",
    "             metrics.completeness_score(labels, estimator.labels_),\n",
    "             metrics.v_measure_score(labels, estimator.labels_),\n",
    "             metrics.adjusted_rand_score(labels, estimator.labels_),\n",
    "             metrics.adjusted_mutual_info_score(labels,  estimator.labels_),\n",
    "             metrics.silhouette_score(data, estimator.labels_,\n",
    "                                      metric='euclidean',\n",
    "                                      sample_size=sample_size)))\n"
   ]
  },
  {
   "cell_type": "code",
   "execution_count": 103,
   "metadata": {},
   "outputs": [
    {
     "name": "stdout",
     "output_type": "stream",
     "text": [
      "init\t\ttime\tinertia\thomo\tcompl\tv-meas\tARI\tAMI\tsilhouette\n",
      "k-means++\t0.28s\t69423\t0.601\t0.650\t0.625\t0.466\t0.597\t0.146\n",
      "random   \t0.23s\t69424\t0.602\t0.650\t0.625\t0.467\t0.598\t0.149\n",
      "PCA-based\t0.04s\t70756\t0.665\t0.692\t0.678\t0.552\t0.661\t0.142\n",
      "_\n"
     ]
    }
   ],
   "source": [
    "# run the model with different types of centroid initializations\n",
    "# first we initialize with k means ++, then random, then using the principal components of the digit masses \n",
    "# for more info on principal components check out the reference guide on PCA\n",
    "\n",
    "print('init\\t\\ttime\\tinertia\\thomo\\tcompl\\tv-meas\\tARI\\tAMI\\tsilhouette')\n",
    "\n",
    "bench_k_means(KMeans(init='k-means++', n_clusters=n_digits, n_init=10),\n",
    "              name=\"k-means++\", data=data)\n",
    "\n",
    "bench_k_means(KMeans(init='random', n_clusters=n_digits, n_init=10),\n",
    "              name=\"random\", data=data)\n",
    "\n",
    "# in this case the seeding of the centers is deterministic, we run the algorithm only once with n_init=1\n",
    "\n",
    "pca = PCA(n_components=n_digits).fit(data)\n",
    "bench_k_means(KMeans(init=pca.components_, n_clusters=n_digits, n_init=1),\n",
    "              name=\"PCA-based\",\n",
    "              data=data)\n",
    "\n",
    "\n",
    "print('_')\n"
   ]
  },
  {
   "cell_type": "code",
   "execution_count": 104,
   "metadata": {},
   "outputs": [
    {
     "data": {
      "image/png": "[encoded data removed]",
      "text/plain": [
       "<Figure size 864x648 with 1 Axes>"
      ]
     },
     "metadata": {},
     "output_type": "display_data"
    }
   ],
   "source": [
    "# let's create a visualization of our PCA model components \n",
    "\n",
    "reduced_data = PCA(n_components=2).fit_transform(data)\n",
    "kmeans = KMeans(init='k-means++', n_clusters=n_digits, n_init=10)\n",
    "kmeans.fit(reduced_data)\n",
    "\n",
    "# Step size of the mesh. Decrease h to increase the quality of the VQ.\n",
    "h = .02     # point in the mesh [x_min, x_max]x[y_min, y_max].\n",
    "\n",
    "\n",
    "# Plot the decision boundary. For that, we will assign a color to each\n",
    "\n",
    "x_min, x_max = reduced_data[:, 0].min() - 1, reduced_data[:, 0].max() + 1\n",
    "y_min, y_max = reduced_data[:, 1].min() - 1, reduced_data[:, 1].max() + 1\n",
    "xx, yy = np.meshgrid(np.arange(x_min, x_max, h), np.arange(y_min, y_max, h))\n",
    "\n",
    "\n",
    "# Obtain labels for each point in mesh. Use last trained model.\n",
    "\n",
    "Z = kmeans.predict(np.c_[xx.ravel(), yy.ravel()])\n",
    "\n",
    "\n",
    "# Put the result into a color plot\n",
    "\n",
    "Z = Z.reshape(xx.shape)\n",
    "plt.figure(figsize=(12,9))\n",
    "plt.clf()\n",
    "plt.imshow(Z, interpolation='nearest',\n",
    "           extent=(xx.min(), xx.max(), yy.min(), yy.max()),\n",
    "           cmap=plt.cm.Paired,\n",
    "           aspect='auto', origin='lower')\n",
    "\n",
    "plt.plot(reduced_data[:, 0], reduced_data[:, 1], 'k.', markersize=2)\n",
    "\n",
    "# Plot the centroids as a white X\n",
    "\n",
    "centroids = kmeans.cluster_centers_\n",
    "plt.scatter(centroids[:, 0], centroids[:, 1],\n",
    "            marker='x', s=169, linewidths=3,\n",
    "            color='w', zorder=10)\n",
    "\n",
    "# define the plot title and bounds\n",
    "\n",
    "plt.title('K-means clustering on digits dataset (PCA-reduced data)\\n'\n",
    "          'Centroids are marked with white cross')\n",
    "plt.xlim(x_min, x_max)\n",
    "plt.ylim(y_min, y_max)\n",
    "plt.xticks(())\n",
    "plt.yticks(())\n",
    "plt.show()"
   ]
  },
  {
   "cell_type": "markdown",
   "metadata": {},
   "source": [
    "<a id='section7'></a>"
   ]
  },
  {
   "cell_type": "markdown",
   "metadata": {},
   "source": [
    "## Additional Sources ##"
   ]
  },
  {
   "cell_type": "markdown",
   "metadata": {},
   "source": [
    "1. [K means in depth, page 286](https://www-bcf.usc.edu/~gareth/ISL/ISLR%20First%20Printing.pdf)\n",
    "2. [K means video explanation](https://www.youtube.com/watch?v=RD0nNK51Fp8)\n",
    "3. [K means from scratch](https://pythonprogramming.net/k-means-from-scratch-machine-learning-tutorial/)"
   ]
  },
  {
   "cell_type": "markdown",
   "metadata": {},
   "source": [
    "<a id='section8'></a>"
   ]
  },
  {
   "cell_type": "markdown",
   "metadata": {},
   "source": [
    "## Conclusion ##"
   ]
  },
  {
   "cell_type": "markdown",
   "metadata": {},
   "source": [
    "In this tutorial we stepped through k means clustering. K means clustering is an unsupervised learning technique that can be used to better understand the shape, subgroups, and visual layout of our data. Next, we covered some of the pros and cons (ease of use/implementation, local minima pitfalls respectively) and then tackled when to use k means clustering. Lastly, we stepped through a tutorial on how to build our own k means clustering algorithm on the Digits dataset. For those interested in learning more about unsupervised learning, consider reading the hierarchical clustering guide."
   ]
  },
  {
   "cell_type": "markdown",
   "metadata": {},
   "source": [
    "<a id='section9'></a>"
   ]
  },
  {
   "cell_type": "markdown",
   "metadata": {},
   "source": [
    "## Sources ##\n",
    "\n",
    "1. https://scikit-learn.org/stable/auto_examples/cluster/plot_kmeans_digits.html\n",
    "2. https://scikit-learn.org/stable/modules/generated/sklearn.cluster.KMeans.html\n",
    "3. https://www-bcf.usc.edu/~gareth/ISL/ISLR%20First%20Printing.pdf\n",
    "4. https://towardsdatascience.com/k-means-clustering-from-a-to-z-f6242a314e9a\n",
    "5. https://educationalresearchtechniques.com/2016/08/05/k-means-clustering/\n",
    "6. https://www-bcf.usc.edu/~gareth/ISL/ISLR%20First%20Printing.pdf\n",
    "7. https://www.youtube.com/watch?v=RD0nNK51Fp8"
   ]
  }
 ],
 "metadata": {
  "kernelspec": {
   "display_name": "Python 3",
   "language": "python",
   "name": "python3"
  },
  "language_info": {
   "codemirror_mode": {
    "name": "ipython",
    "version": 3
   },
   "file_extension": ".py",
   "mimetype": "text/x-python",
   "name": "python",
   "nbconvert_exporter": "python",
   "pygments_lexer": "ipython3",
   "version": "3.6.5"
  }
 },
 "nbformat": 4,
 "nbformat_minor": 2
}
