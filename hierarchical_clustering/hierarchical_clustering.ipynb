{
 "cells": [
  {
   "cell_type": "markdown",
   "metadata": {},
   "source": [
    "# Hierarchical Clustering in Python #"
   ]
  },
  {
   "cell_type": "markdown",
   "metadata": {},
   "source": [
    "Killian McKee"
   ]
  },
  {
   "cell_type": "markdown",
   "metadata": {},
   "source": [
    "## Overview ## "
   ]
  },
  {
   "cell_type": "markdown",
   "metadata": {},
   "source": [
    "1. [What is Hierarchical Clustering?](#section1)\n",
    "2. [Key Terms](#section2) \n",
    "3. [Pros and Cons of Hierarchical Clustering](#section3)\n",
    "4. [When to use Hierarchical Clustering](#section4)\n",
    "5. [Key Parameters](#section5) \n",
    "6. [Walkthrough: Building a Hierchichal clustering model](#section6)\n",
    "7. [Additional Resources](#section7) \n",
    "8. [Conclusion](#section8)\n",
    "9. [Sources](#section9)"
   ]
  },
  {
   "cell_type": "markdown",
   "metadata": {},
   "source": [
    "<a id='section1'></a>"
   ]
  },
  {
   "cell_type": "markdown",
   "metadata": {},
   "source": [
    "## What is Hierarchical Clustering? ##"
   ]
  },
  {
   "cell_type": "markdown",
   "metadata": {},
   "source": [
    "Hierarchichal clustering is an unsupervised machine learning technique used to split data into distinct, similar subgroups. This can be useful in settings where one wants to better understand their customer demographics, identify patient subgroups, find outlying data points, or to better understand the underlying structure of data. Their are two types of hierarchical clustering: divisive and agglomerative. Divisive clustering starts from the top down and initially treats all the data points as one cluster. Subsequent clusters are formed by dividing the first cluster based on one of several selectable similarity criteria. This guide will focus on agglomerative clustering, which is much more common than divisive in practice. Agglomerative clustering works from the bottom up by treating each data point as a 'cluster' and then combining clusters with their next most similar cluster until one large cluster is formed. Hierarchical clustering models track where each of these cluster combinations take place to form a dendrogram, which is a tree like structure. Next, the dendrogram is used as a reference to break the single large cluster into the desired number of subgroups. Here are the steps for agglomerative hierarchical clustering explicitly defined:\n",
    "\n",
    "1. Treat each data point as a cluster where k is the total number of data points/initial clusters\n",
    "2. Combine the two closest points into a new cluster. This results in k-1 clusters. \n",
    "3. Form additional clusters by joining the next two closest clusters. This results in k-2 clusters. \n",
    "4. Repeat steps 1-3 until there is only one big cluster remaining. \n",
    "5. Divide the single cluster into sub-clusters using the dendrogram generated during the cluster combinations. Users can decide how many clusters are appropriate based on the dendrogram, or an optimization algorithm (less common because of resource intensity and clarity of most dendrograms). \n",
    "\n",
    "The 'closeness' of points mentioned in steps 2 and 3 above can be determined a few different ways using either euclidean or manhattan distance:\n",
    "\n",
    "1. Measure the distance between the two closest points of each cluster (also called single linkage). \n",
    "2. Measure the distance between the two furthest points of each cluster (maximum/complete linkage). \n",
    "3. Measure the distance between the two centroids of each cluster (ward linkage).\n",
    "4. Measure the distance between all the points of in each cluster and take the average (average linkage). "
   ]
  },
  {
   "cell_type": "markdown",
   "metadata": {},
   "source": [
    "<img src='hierarch.gif'>"
   ]
  },
  {
   "cell_type": "markdown",
   "metadata": {},
   "source": [
    "<a id='section2'></a>"
   ]
  },
  {
   "cell_type": "markdown",
   "metadata": {},
   "source": [
    "## Key Terms ##"
   ]
  },
  {
   "cell_type": "markdown",
   "metadata": {},
   "source": [
    "1. **Clustering**: Unsupervised learning technique to find non-overlapping subgroups within a dataset. Commonly used to find customer or patient groups, analomies, or to get a general data visualization.\n",
    "2. **Centroid**: The average center of mass within a cluster. Used to help determine what observation in a dataset belongs in which cluster. \n",
    "3. **Agglomerative Hierarchical Clustering**: Bottom up techique where each data point is initially treated as a cluster (see gif above). A dendrogram is formed while clusters are being formed to create future divisions. Most commonly used type of hierchical clustering. \n",
    "4. **Dendrogram**: A tree like diagram that shows the hierarchical relationships between objects (see above  gif, right side)."
   ]
  },
  {
   "cell_type": "markdown",
   "metadata": {},
   "source": [
    "<a id='section3'></a>"
   ]
  },
  {
   "cell_type": "markdown",
   "metadata": {},
   "source": [
    "## Pros and Cons of Hierarchical Clustering ##"
   ]
  },
  {
   "cell_type": "markdown",
   "metadata": {},
   "source": [
    "### Pros ### \n",
    "\n",
    "1. **Makes Few Assumptions about Data**: Unlike k means clustering, hierarchical clustering does not require users to specify the number of clusters they want early in the process. \n",
    "2. **Handles Non-Globular Data**: Hierarchical clustering can better handle noisy or non-globularly shaped data than k means clustering. \n",
    "3. **Easy to Understand/Implement**: Dendrograms make it easy to understand and interpret hierarchical clustering models. Packages like scikit-learn also make it easy to implement a hierarchical clustering model. \n",
    "\n",
    "### Cons ### \n",
    "\n",
    "1. **Computationally Expensive**: Hierarchical clustering models are too computationally expensive to work quickly on large data sets. K means cluserting is a superior option in most big data situations. \n",
    "2. **Order and Initial Seed Impacts Final Results**: The order of the data and the way in which the seeds are initialized can change the final results of model performance significantly. \n",
    "3. **Very Sensitive to Outliers**: Hierarchical clustering can be adversely affected by outliers. "
   ]
  },
  {
   "cell_type": "markdown",
   "metadata": {},
   "source": [
    "<a id='section4'></a>"
   ]
  },
  {
   "cell_type": "markdown",
   "metadata": {},
   "source": [
    "## When to use Hierarchical Clustering ##"
   ]
  },
  {
   "cell_type": "markdown",
   "metadata": {},
   "source": [
    "Hierarchical clustering works well on relatively tidy, small to medium sized datasets. It can handle more data shapes than k means clustering, but is more prone to being thrown off by outliers. Additionally, hierarchical clustering merits consideration when one isn't sure how many clusters to specify intially (a requirement of k means clustering) since dendrograms can give good insights into an appropriate number. "
   ]
  },
  {
   "cell_type": "markdown",
   "metadata": {},
   "source": [
    "<a id='section5'></a>"
   ]
  },
  {
   "cell_type": "markdown",
   "metadata": {},
   "source": [
    "## Key Parameters ##"
   ]
  },
  {
   "cell_type": "markdown",
   "metadata": {},
   "source": [
    "**n_clusters**: The number of clusters to use, should be the same as the number of data points initially. \n",
    "**linkage**: This can be one of te four closeness measures specified above. Generally speaking:\n",
    "   - Single linkage is fast and effective on non-globular data, but severly afflicted by noise. \n",
    "   - Average and complete linkage are accurate on cleanly separated data, but have variable results otherwise. \n",
    "   - Ward most effectively manages noisy data"
   ]
  },
  {
   "cell_type": "markdown",
   "metadata": {},
   "source": [
    "<a id='section6'></a>"
   ]
  },
  {
   "cell_type": "markdown",
   "metadata": {},
   "source": [
    "## Walkthrough: Building a Hierarchical Clustering Model in Python ##"
   ]
  },
  {
   "cell_type": "markdown",
   "metadata": {},
   "source": [
    "This tutorial walks through how we could use hierarchical clustering to identify different customer spending groups using a ward linkage. The following steps are performed:\n",
    "\n",
    "1. Import the necessary packages and load the dataset. \n",
    "2. Examine the data.\n",
    "3. Create a dendrogram to decide how many clusters to use.\n",
    "4. Fit our agglomerative clustering model using a ward linkage.\n",
    "5. Plot and display a visualization of our clusters."
   ]
  },
  {
   "cell_type": "code",
   "execution_count": 1,
   "metadata": {},
   "outputs": [],
   "source": [
    "# import necessary packages \n",
    "\n",
    "import matplotlib.pyplot as plt \n",
    "import pandas as pd \n",
    "import numpy as np \n",
    "import scipy.cluster.hierarchy as sch\n",
    "from sklearn.cluster import AgglomerativeClustering"
   ]
  },
  {
   "cell_type": "code",
   "execution_count": 2,
   "metadata": {},
   "outputs": [],
   "source": [
    "# read in our dataset \n",
    "\n",
    "cust_data=pd.read_csv('shopping_data.csv')"
   ]
  },
  {
   "cell_type": "code",
   "execution_count": 3,
   "metadata": {},
   "outputs": [
    {
     "name": "stdout",
     "output_type": "stream",
     "text": [
      "data shape: (200, 5)\n",
      "top 5 rows:    CustomerID   Genre  Age  Annual Income (k$)  Spending Score (1-100)\n",
      "0           1    Male   19                  15                      39\n",
      "1           2    Male   21                  15                      81\n",
      "2           3  Female   20                  16                       6\n",
      "3           4  Female   23                  16                      77\n",
      "4           5  Female   31                  17                      40\n"
     ]
    }
   ],
   "source": [
    "# some basic data exploration \n",
    "\n",
    "print('data shape:',cust_data.shape)\n",
    "print('top 5 rows:',cust_data.head(5))"
   ]
  },
  {
   "cell_type": "code",
   "execution_count": 10,
   "metadata": {},
   "outputs": [],
   "source": [
    "# remove the first three columns \n",
    "# clustering will be done on last 2 columns in a 2D feature space \n",
    "\n",
    "data=cust_data.iloc[:,3:5].values"
   ]
  },
  {
   "cell_type": "code",
   "execution_count": 11,
   "metadata": {},
   "outputs": [
    {
     "data": {
      "image/png": "[encoded data removed]",
      "text/plain": [
       "<Figure size 720x504 with 1 Axes>"
      ]
     },
     "metadata": {},
     "output_type": "display_data"
    }
   ],
   "source": [
    "# generate a dendrogram for our data using scipy \n",
    "# this will help us decide how many clusters to form \n",
    "# we can see that if we drew a line across the middle we would end up with 5 distinct clusters\n",
    "# more info on dendrograms in the additional sources section\n",
    "\n",
    "plt.figure(figsize=(10,7))\n",
    "plt.title('Customer Data Dendrogram')\n",
    "dendro=sch.dendrogram(sch.linkage(data,method='ward'))\n"
   ]
  },
  {
   "cell_type": "code",
   "execution_count": 12,
   "metadata": {},
   "outputs": [
    {
     "data": {
      "text/plain": [
       "array([4, 3, 4, 3, 4, 3, 4, 3, 4, 3, 4, 3, 4, 3, 4, 3, 4, 3, 4, 3, 4, 3,\n",
       "       4, 3, 4, 3, 4, 3, 4, 3, 4, 3, 4, 3, 4, 3, 4, 3, 4, 3, 4, 3, 4, 1,\n",
       "       4, 1, 1, 1, 1, 1, 1, 1, 1, 1, 1, 1, 1, 1, 1, 1, 1, 1, 1, 1, 1, 1,\n",
       "       1, 1, 1, 1, 1, 1, 1, 1, 1, 1, 1, 1, 1, 1, 1, 1, 1, 1, 1, 1, 1, 1,\n",
       "       1, 1, 1, 1, 1, 1, 1, 1, 1, 1, 1, 1, 1, 1, 1, 1, 1, 1, 1, 1, 1, 1,\n",
       "       1, 1, 1, 1, 1, 1, 1, 1, 1, 1, 1, 1, 1, 2, 1, 2, 1, 2, 0, 2, 0, 2,\n",
       "       1, 2, 0, 2, 0, 2, 0, 2, 0, 2, 1, 2, 0, 2, 1, 2, 0, 2, 0, 2, 0, 2,\n",
       "       0, 2, 0, 2, 0, 2, 1, 2, 0, 2, 0, 2, 0, 2, 0, 2, 0, 2, 0, 2, 0, 2,\n",
       "       0, 2, 0, 2, 0, 2, 0, 2, 0, 2, 0, 2, 0, 2, 0, 2, 0, 2, 0, 2, 0, 2,\n",
       "       0, 2], dtype=int64)"
      ]
     },
     "execution_count": 12,
     "metadata": {},
     "output_type": "execute_result"
    }
   ],
   "source": [
    "# building our hierarchical clustering model \n",
    "# we will be using a ward linkage since the data is slightly noisy\n",
    "# this will output an array with a number from 0-n_clusters\n",
    "\n",
    "cluster=AgglomerativeClustering(n_clusters=5, affinity='euclidean',linkage='ward')\n",
    "cluster.fit_predict(data)"
   ]
  },
  {
   "cell_type": "code",
   "execution_count": 14,
   "metadata": {},
   "outputs": [
    {
     "data": {
      "text/plain": [
       "<matplotlib.collections.PathCollection at 0x1624b84a278>"
      ]
     },
     "execution_count": 14,
     "metadata": {},
     "output_type": "execute_result"
    },
    {
     "data": {
      "image/png": "[encoded data removed]",
      "text/plain": [
       "<Figure size 720x504 with 1 Axes>"
      ]
     },
     "metadata": {},
     "output_type": "display_data"
    }
   ],
   "source": [
    "# plot the output of our clustered data\n",
    "\n",
    "plt.figure(figsize=(10, 7))\n",
    "plt.title('Hierarchichal Agglomerative Clustering: Identifying Customer Groups')\n",
    "plt.scatter(data[:,0], data[:,1], c=cluster.labels_, cmap='rainbow')  "
   ]
  },
  {
   "cell_type": "markdown",
   "metadata": {},
   "source": [
    "<a id='section7'></a>"
   ]
  },
  {
   "cell_type": "markdown",
   "metadata": {},
   "source": [
    "## Additional Resources ##"
   ]
  },
  {
   "cell_type": "markdown",
   "metadata": {},
   "source": [
    "1. [In depth on dendrograms and hierarchical clustering](https://ncss-wpengine.netdna-ssl.com/wp-content/themes/ncss/pdf/Procedures/NCSS/Hierarchical_Clustering-Dendrograms.pdf)\n",
    "2. [Stanford lecture on hierachical clustering](https://www.youtube.com/watch?v=rg2cjfMsCk4)"
   ]
  },
  {
   "cell_type": "markdown",
   "metadata": {},
   "source": [
    "<a id='section8'></a>"
   ]
  },
  {
   "cell_type": "markdown",
   "metadata": {},
   "source": [
    "## Conclusion ##"
   ]
  },
  {
   "cell_type": "markdown",
   "metadata": {},
   "source": [
    "This guide covered hierchical clustering. After defining some key terms and getting a general overview of hierarchical clustering, we covered some of the pros and cons of this method. Next, we discussed relevant programming parameters and then built our own algorithm to cluster customers with similar spending habits. Ultimately, hierchical clustering provides us with an alternative to k-means clustering for small-medium sized datasets or the ideal number of clusters is called into doubt. "
   ]
  },
  {
   "cell_type": "markdown",
   "metadata": {},
   "source": [
    "<a id='section9'></a>"
   ]
  },
  {
   "cell_type": "markdown",
   "metadata": {},
   "source": [
    "## Sources ##"
   ]
  },
  {
   "cell_type": "markdown",
   "metadata": {},
   "source": [
    "1. https://stackabuse.com/hierarchical-clustering-with-python-and-scikit-learn/\n",
    "2. https://dashee87.github.io/data%20science/general/Clustering-with-Scikit-with-GIFs/\n",
    "3. https://scikit-learn.org/stable/auto_examples/cluster/plot_linkage_comparison.html#sphx-glr-auto-examples-cluster-plot-linkage-comparison-py\n",
    "4. https://drive.google.com/file/d/18Dsja5_1jRY1GnWoORXFFKGTJhylk6rJ/view\n",
    "5. https://www.youtube.com/watch?v=rg2cjfMsCk4\n",
    "6. https://ncss-wpengine.netdna-ssl.com/wp-content/themes/ncss/pdf/Procedures/NCSS/Hierarchical_Clustering-Dendrograms.pdf"
   ]
  }
 ],
 "metadata": {
  "kernelspec": {
   "display_name": "Python 3",
   "language": "python",
   "name": "python3"
  },
  "language_info": {
   "codemirror_mode": {
    "name": "ipython",
    "version": 3
   },
   "file_extension": ".py",
   "mimetype": "text/x-python",
   "name": "python",
   "nbconvert_exporter": "python",
   "pygments_lexer": "ipython3",
   "version": "3.6.5"
  }
 },
 "nbformat": 4,
 "nbformat_minor": 2
}
